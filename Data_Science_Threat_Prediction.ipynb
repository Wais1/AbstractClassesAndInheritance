{
  "cells": [
    {
      "cell_type": "markdown",
      "metadata": {
        "id": "view-in-github",
        "colab_type": "text"
      },
      "source": [
        "<a href=\"https://colab.research.google.com/github/Wais1/AbstractClassesAndInterfaces/blob/master/Data_Science_Threat_Prediction.ipynb\" target=\"_parent\"><img src=\"https://colab.research.google.com/assets/colab-badge.svg\" alt=\"Open In Colab\"/></a>"
      ]
    },
    {
      "cell_type": "code",
      "execution_count": 30,
      "metadata": {
        "colab": {
          "base_uri": "https://localhost:8080/",
          "height": 206
        },
        "id": "CMgMLfT-WxLE",
        "outputId": "d1a61356-cf57-4c59-bd14-a06d152a1566"
      },
      "outputs": [
        {
          "output_type": "execute_result",
          "data": {
            "text/plain": [
              "                 id                                       comment_text  toxic  \\\n",
              "0  0000997932d777bf  Explanation\\nWhy the edits made under my usern...      0   \n",
              "1  000103f0d9cfb60f  D'aww! He matches this background colour I'm s...      0   \n",
              "2  000113f07ec002fd  Hey man, I'm really not trying to edit war. It...      0   \n",
              "3  0001b41b1c6bb37e  \"\\nMore\\nI can't make any real suggestions on ...      0   \n",
              "4  0001d958c54c6e35  You, sir, are my hero. Any chance you remember...      0   \n",
              "\n",
              "   severe_toxic  obscene  threat  insult  identity_hate  \n",
              "0             0        0       0       0              0  \n",
              "1             0        0       0       0              0  \n",
              "2             0        0       0       0              0  \n",
              "3             0        0       0       0              0  \n",
              "4             0        0       0       0              0  "
            ],
            "text/html": [
              "\n",
              "  <div id=\"df-4ffd6d8e-7cb2-4422-a87d-cb5945ddc419\">\n",
              "    <div class=\"colab-df-container\">\n",
              "      <div>\n",
              "<style scoped>\n",
              "    .dataframe tbody tr th:only-of-type {\n",
              "        vertical-align: middle;\n",
              "    }\n",
              "\n",
              "    .dataframe tbody tr th {\n",
              "        vertical-align: top;\n",
              "    }\n",
              "\n",
              "    .dataframe thead th {\n",
              "        text-align: right;\n",
              "    }\n",
              "</style>\n",
              "<table border=\"1\" class=\"dataframe\">\n",
              "  <thead>\n",
              "    <tr style=\"text-align: right;\">\n",
              "      <th></th>\n",
              "      <th>id</th>\n",
              "      <th>comment_text</th>\n",
              "      <th>toxic</th>\n",
              "      <th>severe_toxic</th>\n",
              "      <th>obscene</th>\n",
              "      <th>threat</th>\n",
              "      <th>insult</th>\n",
              "      <th>identity_hate</th>\n",
              "    </tr>\n",
              "  </thead>\n",
              "  <tbody>\n",
              "    <tr>\n",
              "      <th>0</th>\n",
              "      <td>0000997932d777bf</td>\n",
              "      <td>Explanation\\nWhy the edits made under my usern...</td>\n",
              "      <td>0</td>\n",
              "      <td>0</td>\n",
              "      <td>0</td>\n",
              "      <td>0</td>\n",
              "      <td>0</td>\n",
              "      <td>0</td>\n",
              "    </tr>\n",
              "    <tr>\n",
              "      <th>1</th>\n",
              "      <td>000103f0d9cfb60f</td>\n",
              "      <td>D'aww! He matches this background colour I'm s...</td>\n",
              "      <td>0</td>\n",
              "      <td>0</td>\n",
              "      <td>0</td>\n",
              "      <td>0</td>\n",
              "      <td>0</td>\n",
              "      <td>0</td>\n",
              "    </tr>\n",
              "    <tr>\n",
              "      <th>2</th>\n",
              "      <td>000113f07ec002fd</td>\n",
              "      <td>Hey man, I'm really not trying to edit war. It...</td>\n",
              "      <td>0</td>\n",
              "      <td>0</td>\n",
              "      <td>0</td>\n",
              "      <td>0</td>\n",
              "      <td>0</td>\n",
              "      <td>0</td>\n",
              "    </tr>\n",
              "    <tr>\n",
              "      <th>3</th>\n",
              "      <td>0001b41b1c6bb37e</td>\n",
              "      <td>\"\\nMore\\nI can't make any real suggestions on ...</td>\n",
              "      <td>0</td>\n",
              "      <td>0</td>\n",
              "      <td>0</td>\n",
              "      <td>0</td>\n",
              "      <td>0</td>\n",
              "      <td>0</td>\n",
              "    </tr>\n",
              "    <tr>\n",
              "      <th>4</th>\n",
              "      <td>0001d958c54c6e35</td>\n",
              "      <td>You, sir, are my hero. Any chance you remember...</td>\n",
              "      <td>0</td>\n",
              "      <td>0</td>\n",
              "      <td>0</td>\n",
              "      <td>0</td>\n",
              "      <td>0</td>\n",
              "      <td>0</td>\n",
              "    </tr>\n",
              "  </tbody>\n",
              "</table>\n",
              "</div>\n",
              "      <button class=\"colab-df-convert\" onclick=\"convertToInteractive('df-4ffd6d8e-7cb2-4422-a87d-cb5945ddc419')\"\n",
              "              title=\"Convert this dataframe to an interactive table.\"\n",
              "              style=\"display:none;\">\n",
              "        \n",
              "  <svg xmlns=\"http://www.w3.org/2000/svg\" height=\"24px\"viewBox=\"0 0 24 24\"\n",
              "       width=\"24px\">\n",
              "    <path d=\"M0 0h24v24H0V0z\" fill=\"none\"/>\n",
              "    <path d=\"M18.56 5.44l.94 2.06.94-2.06 2.06-.94-2.06-.94-.94-2.06-.94 2.06-2.06.94zm-11 1L8.5 8.5l.94-2.06 2.06-.94-2.06-.94L8.5 2.5l-.94 2.06-2.06.94zm10 10l.94 2.06.94-2.06 2.06-.94-2.06-.94-.94-2.06-.94 2.06-2.06.94z\"/><path d=\"M17.41 7.96l-1.37-1.37c-.4-.4-.92-.59-1.43-.59-.52 0-1.04.2-1.43.59L10.3 9.45l-7.72 7.72c-.78.78-.78 2.05 0 2.83L4 21.41c.39.39.9.59 1.41.59.51 0 1.02-.2 1.41-.59l7.78-7.78 2.81-2.81c.8-.78.8-2.07 0-2.86zM5.41 20L4 18.59l7.72-7.72 1.47 1.35L5.41 20z\"/>\n",
              "  </svg>\n",
              "      </button>\n",
              "      \n",
              "  <style>\n",
              "    .colab-df-container {\n",
              "      display:flex;\n",
              "      flex-wrap:wrap;\n",
              "      gap: 12px;\n",
              "    }\n",
              "\n",
              "    .colab-df-convert {\n",
              "      background-color: #E8F0FE;\n",
              "      border: none;\n",
              "      border-radius: 50%;\n",
              "      cursor: pointer;\n",
              "      display: none;\n",
              "      fill: #1967D2;\n",
              "      height: 32px;\n",
              "      padding: 0 0 0 0;\n",
              "      width: 32px;\n",
              "    }\n",
              "\n",
              "    .colab-df-convert:hover {\n",
              "      background-color: #E2EBFA;\n",
              "      box-shadow: 0px 1px 2px rgba(60, 64, 67, 0.3), 0px 1px 3px 1px rgba(60, 64, 67, 0.15);\n",
              "      fill: #174EA6;\n",
              "    }\n",
              "\n",
              "    [theme=dark] .colab-df-convert {\n",
              "      background-color: #3B4455;\n",
              "      fill: #D2E3FC;\n",
              "    }\n",
              "\n",
              "    [theme=dark] .colab-df-convert:hover {\n",
              "      background-color: #434B5C;\n",
              "      box-shadow: 0px 1px 3px 1px rgba(0, 0, 0, 0.15);\n",
              "      filter: drop-shadow(0px 1px 2px rgba(0, 0, 0, 0.3));\n",
              "      fill: #FFFFFF;\n",
              "    }\n",
              "  </style>\n",
              "\n",
              "      <script>\n",
              "        const buttonEl =\n",
              "          document.querySelector('#df-4ffd6d8e-7cb2-4422-a87d-cb5945ddc419 button.colab-df-convert');\n",
              "        buttonEl.style.display =\n",
              "          google.colab.kernel.accessAllowed ? 'block' : 'none';\n",
              "\n",
              "        async function convertToInteractive(key) {\n",
              "          const element = document.querySelector('#df-4ffd6d8e-7cb2-4422-a87d-cb5945ddc419');\n",
              "          const dataTable =\n",
              "            await google.colab.kernel.invokeFunction('convertToInteractive',\n",
              "                                                     [key], {});\n",
              "          if (!dataTable) return;\n",
              "\n",
              "          const docLinkHtml = 'Like what you see? Visit the ' +\n",
              "            '<a target=\"_blank\" href=https://colab.research.google.com/notebooks/data_table.ipynb>data table notebook</a>'\n",
              "            + ' to learn more about interactive tables.';\n",
              "          element.innerHTML = '';\n",
              "          dataTable['output_type'] = 'display_data';\n",
              "          await google.colab.output.renderOutput(dataTable, element);\n",
              "          const docLink = document.createElement('div');\n",
              "          docLink.innerHTML = docLinkHtml;\n",
              "          element.appendChild(docLink);\n",
              "        }\n",
              "      </script>\n",
              "    </div>\n",
              "  </div>\n",
              "  "
            ]
          },
          "metadata": {},
          "execution_count": 30
        }
      ],
      "source": [
        "import pandas as pd\n",
        "df = pd.read_csv('train.csv')\n",
        "df.head()"
      ]
    },
    {
      "cell_type": "code",
      "execution_count": 31,
      "metadata": {
        "colab": {
          "base_uri": "https://localhost:8080/"
        },
        "id": "82gTdPHHY0vs",
        "outputId": "1baa3a07-928a-4794-fa00-b48634ad22ec"
      },
      "outputs": [
        {
          "output_type": "stream",
          "name": "stdout",
          "text": [
            "               toxic   severe_toxic        obscene         threat  \\\n",
            "count  159571.000000  159571.000000  159571.000000  159571.000000   \n",
            "mean        0.095844       0.009996       0.052948       0.002996   \n",
            "std         0.294379       0.099477       0.223931       0.054650   \n",
            "min         0.000000       0.000000       0.000000       0.000000   \n",
            "25%         0.000000       0.000000       0.000000       0.000000   \n",
            "50%         0.000000       0.000000       0.000000       0.000000   \n",
            "75%         0.000000       0.000000       0.000000       0.000000   \n",
            "max         1.000000       1.000000       1.000000       1.000000   \n",
            "\n",
            "              insult  identity_hate  \n",
            "count  159571.000000  159571.000000  \n",
            "mean        0.049364       0.008805  \n",
            "std         0.216627       0.093420  \n",
            "min         0.000000       0.000000  \n",
            "25%         0.000000       0.000000  \n",
            "50%         0.000000       0.000000  \n",
            "75%         0.000000       0.000000  \n",
            "max         1.000000       1.000000  \n"
          ]
        }
      ],
      "source": [
        "print(df.describe())"
      ]
    },
    {
      "cell_type": "code",
      "execution_count": 32,
      "metadata": {
        "colab": {
          "base_uri": "https://localhost:8080/",
          "height": 772
        },
        "id": "zc0elz33I0XK",
        "outputId": "7a5fd079-22d2-4857-f6c2-35b49578bccf"
      },
      "outputs": [
        {
          "output_type": "display_data",
          "data": {
            "text/plain": [
              "<Figure size 432x288 with 1 Axes>"
            ],
            "image/png": "[encoded data removed]"
          },
          "metadata": {
            "needs_background": "light"
          }
        },
        {
          "output_type": "display_data",
          "data": {
            "text/plain": [
              "<Figure size 432x288 with 1 Axes>"
            ],
            "image/png": "[encoded data removed]"
          },
          "metadata": {
            "needs_background": "light"
          }
        },
        {
          "output_type": "display_data",
          "data": {
            "text/plain": [
              "<Figure size 432x288 with 1 Axes>"
            ],
            "image/png": "[encoded data removed]"
          },
          "metadata": {}
        }
      ],
      "source": [
        "import matplotlib.pyplot as plt\n",
        "import seaborn as sns\n",
        "\n",
        "# Plot a bar plot showing the count of toxic and non-toxic comments\n",
        "sns.countplot(x=\"toxic\", data=df)\n",
        "plt.xlabel(\"Comment is Toxic (0 or 1)\")\n",
        "plt.ylabel(\"Number of comments\")\n",
        "plt.show()\n",
        "\n",
        "\n",
        "# Plot a bar plot showing the count of threat and non-threat comments\n",
        "sns.countplot(x=\"threat\", data=df)\n",
        "plt.xlabel(\"Comment is a Threat (0 or 1)\")\n",
        "plt.ylabel(\"Number of comments\")\n",
        "plt.show()\n",
        "\n",
        "\n",
        "# Create a pie chart showing the distribution of threats and non-threats\n",
        "threats = df[\"threat\"]\n",
        "labels = [\"Non-threats\", \"Threats\"]\n",
        "sizes = threats.value_counts()\n",
        "plt.pie(sizes, labels=labels, autopct='%1.1f%%')\n",
        "\n",
        "# Display the plot\n",
        "plt.show()\n"
      ]
    },
    {
      "cell_type": "markdown",
      "metadata": {
        "id": "ADrWt-zOI6at"
      },
      "source": [
        "## Generating a WordCloud"
      ]
    },
    {
      "cell_type": "code",
      "execution_count": 33,
      "metadata": {
        "colab": {
          "base_uri": "https://localhost:8080/",
          "height": 580
        },
        "id": "8MRoC_hNEgWm",
        "outputId": "edb8df2e-7890-47b7-8ab0-f94bb897d758"
      },
      "outputs": [
        {
          "output_type": "stream",
          "name": "stdout",
          "text": [
            "Looking in indexes: https://pypi.org/simple, https://us-python.pkg.dev/colab-wheels/public/simple/\n",
            "Requirement already satisfied: wordcloud in /usr/local/lib/python3.8/dist-packages (1.8.2.2)\n",
            "Requirement already satisfied: numpy>=1.6.1 in /usr/local/lib/python3.8/dist-packages (from wordcloud) (1.21.6)\n",
            "Requirement already satisfied: matplotlib in /usr/local/lib/python3.8/dist-packages (from wordcloud) (3.2.2)\n",
            "Requirement already satisfied: pillow in /usr/local/lib/python3.8/dist-packages (from wordcloud) (7.1.2)\n",
            "Requirement already satisfied: kiwisolver>=1.0.1 in /usr/local/lib/python3.8/dist-packages (from matplotlib->wordcloud) (1.4.4)\n",
            "Requirement already satisfied: python-dateutil>=2.1 in /usr/local/lib/python3.8/dist-packages (from matplotlib->wordcloud) (2.8.2)\n",
            "Requirement already satisfied: cycler>=0.10 in /usr/local/lib/python3.8/dist-packages (from matplotlib->wordcloud) (0.11.0)\n",
            "Requirement already satisfied: pyparsing!=2.0.4,!=2.1.2,!=2.1.6,>=2.0.1 in /usr/local/lib/python3.8/dist-packages (from matplotlib->wordcloud) (3.0.9)\n",
            "Requirement already satisfied: six>=1.5 in /usr/local/lib/python3.8/dist-packages (from python-dateutil>=2.1->matplotlib->wordcloud) (1.15.0)\n",
            "79        Hi! I am back again!\\nLast warning!\\nStop undo...\n",
            "176       I think that your a Fagget get a oife and burn...\n",
            "600       I'm also a sock puppet of this account...SUPRI...\n",
            "802       Fuck you, Smith. Please have me notified when ...\n",
            "1017      WOULDN'T BE THE FIRST TIME BITCH. FUCK YOU I'L...\n",
            "                                ...                        \n",
            "157718    bitch \\nyou are a fucking hore. you suck dick ...\n",
            "158717    stupid head \\n\\nYOur dumb and you are stupid d...\n",
            "158856    Hey \\n\\nhey faggot, are you dead yet? or are y...\n",
            "159029                                  Death to Musulmans!\n",
            "159400    Shalom \\n\\nSemite, get the fuck out of here. I...\n",
            "Name: comment_text, Length: 478, dtype: object\n"
          ]
        },
        {
          "output_type": "display_data",
          "data": {
            "text/plain": [
              "<Figure size 432x288 with 1 Axes>"
            ],
            "image/png": "[encoded data removed]"
          },
          "metadata": {
            "needs_background": "light"
          }
        }
      ],
      "source": [
        "# Install the wordcloud library if it is not already installed\n",
        "!pip install wordcloud\n",
        "\n",
        "# Import the necessary libraries\n",
        "from wordcloud import WordCloud\n",
        "import matplotlib.pyplot as plt\n",
        "\n",
        "# Load the dataset and select the comments in the \"threat\" category\n",
        "threat_comments = df[df[\"threat\"] == 1][\"comment_text\"]\n",
        "print(threat_comments)\n",
        "\n",
        "# Join all comments into one string \n",
        "comments = \" \".join(threat_comments)\n",
        "\n",
        "# Create a wordcloud from the string\n",
        "wordcloud = WordCloud().generate(comments)\n",
        "\n",
        "# Display\n",
        "plt.imshow(wordcloud, interpolation=\"bilinear\")\n",
        "plt.axis(\"off\")\n",
        "plt.show()"
      ]
    },
    {
      "cell_type": "code",
      "source": [
        "# Additional plot: Historgram\n",
        "\n",
        "# Calculate the length of each comment\n",
        "comment_lengths = df['comment_text'].apply(len)\n",
        "\n",
        "# Plot a histogram of the lengths\n",
        "plt.hist(comment_lengths, bins=50)\n",
        "plt.xlabel(\"Comment Length\")\n",
        "plt.ylabel(\"Number of Comments\")\n",
        "plt.show()"
      ],
      "metadata": {
        "colab": {
          "base_uri": "https://localhost:8080/",
          "height": 279
        },
        "id": "ZKHMioX7qhwg",
        "outputId": "961e15c7-56d6-422e-8fa3-122448aea0be"
      },
      "execution_count": 34,
      "outputs": [
        {
          "output_type": "display_data",
          "data": {
            "text/plain": [
              "<Figure size 432x288 with 1 Axes>"
            ],
            "image/png": "[encoded data removed]"
          },
          "metadata": {
            "needs_background": "light"
          }
        }
      ]
    },
    {
      "cell_type": "code",
      "source": [
        "# Additional plot: Scatterplot\n",
        "# Get the number of toxic and non-toxic comments\n",
        "toxic_count = df[df['toxic'] == 1]['toxic'].count()\n",
        "non_toxic_count = df[df['toxic'] == 0]['toxic'].count()\n",
        "\n",
        "# Create a scatter plot\n",
        "plt.scatter(toxic_count, non_toxic_count)\n",
        "plt.xlabel(\"Number of Toxic Comments\")\n",
        "plt.ylabel(\"Number of Non-Toxic Comments\")\n",
        "plt.show()"
      ],
      "metadata": {
        "colab": {
          "base_uri": "https://localhost:8080/",
          "height": 280
        },
        "id": "OmiZI-glqr0n",
        "outputId": "3eaecfa3-6e82-4ada-d32b-8da9746119d3"
      },
      "execution_count": 35,
      "outputs": [
        {
          "output_type": "display_data",
          "data": {
            "text/plain": [
              "<Figure size 432x288 with 1 Axes>"
            ],
            "image/png": "[encoded data removed]"
          },
          "metadata": {
            "needs_background": "light"
          }
        }
      ]
    },
    {
      "cell_type": "markdown",
      "metadata": {
        "id": "CEYisVp7ZOZB"
      },
      "source": [
        "### Data cleaning & Processing"
      ]
    },
    {
      "cell_type": "code",
      "execution_count": 36,
      "metadata": {
        "colab": {
          "base_uri": "https://localhost:8080/"
        },
        "id": "JoWOajo8IKP2",
        "outputId": "3e1c3dd7-54d7-4e41-af14-6d21741f703c"
      },
      "outputs": [
        {
          "output_type": "stream",
          "name": "stdout",
          "text": [
            "0         Explanation\\nWhy the edits made under my usern...\n",
            "1         D'aww! He matches this background colour I'm s...\n",
            "2         Hey man, I'm really not trying to edit war. It...\n",
            "3         \"\\nMore\\nI can't make any real suggestions on ...\n",
            "4         You, sir, are my hero. Any chance you remember...\n",
            "                                ...                        \n",
            "159566    \":::::And for the second time of asking, when ...\n",
            "159567    You should be ashamed of yourself \\n\\nThat is ...\n",
            "159568    Spitzer \\n\\nUmm, theres no actual article for ...\n",
            "159569    And it looks like it was actually you who put ...\n",
            "159570    \"\\nAnd ... I really don't think you understand...\n",
            "Name: comment_text, Length: 159571, dtype: object\n"
          ]
        }
      ],
      "source": [
        "# Take the two columns important to us. comment_text which includes the comment\n",
        "# and the threat which is our y and what we will try to predict.\n",
        "X = df[\"comment_text\"]\n",
        "y = df[\"threat\"]\n",
        "print(X)\n"
      ]
    },
    {
      "cell_type": "markdown",
      "metadata": {
        "id": "Lnjd8YKoVNtM"
      },
      "source": [
        "a. Drop missing values"
      ]
    },
    {
      "cell_type": "code",
      "execution_count": 37,
      "metadata": {
        "colab": {
          "base_uri": "https://localhost:8080/"
        },
        "id": "M-bKpiooVOtk",
        "outputId": "c74be2d8-1082-4b35-c315-d83718725550"
      },
      "outputs": [
        {
          "output_type": "stream",
          "name": "stdout",
          "text": [
            "0         Explanation\\nWhy the edits made under my usern...\n",
            "1         D'aww! He matches this background colour I'm s...\n",
            "2         Hey man, I'm really not trying to edit war. It...\n",
            "3         \"\\nMore\\nI can't make any real suggestions on ...\n",
            "4         You, sir, are my hero. Any chance you remember...\n",
            "                                ...                        \n",
            "159566    \":::::And for the second time of asking, when ...\n",
            "159567    You should be ashamed of yourself \\n\\nThat is ...\n",
            "159568    Spitzer \\n\\nUmm, theres no actual article for ...\n",
            "159569    And it looks like it was actually you who put ...\n",
            "159570    \"\\nAnd ... I really don't think you understand...\n",
            "Name: comment_text, Length: 159571, dtype: object\n"
          ]
        }
      ],
      "source": [
        "# Remove rows with missing values\n",
        "df.dropna(inplace=True)\n",
        "X = df[\"comment_text\"]\n",
        "print(X)"
      ]
    },
    {
      "cell_type": "code",
      "execution_count": 38,
      "metadata": {
        "id": "NVzgNfOCJUds"
      },
      "outputs": [],
      "source": [
        "# Remove very short comments\n",
        "X = X[X.apply(len) > 10]"
      ]
    },
    {
      "cell_type": "markdown",
      "metadata": {
        "id": "OSbE-A57-ZM1"
      },
      "source": [
        "b. Remove punctuation"
      ]
    },
    {
      "cell_type": "code",
      "execution_count": 39,
      "metadata": {
        "colab": {
          "base_uri": "https://localhost:8080/"
        },
        "id": "vgo-xej1GLhK",
        "outputId": "45dcc7ee-8fe0-4f99-e1fc-077a14fd66a7"
      },
      "outputs": [
        {
          "output_type": "stream",
          "name": "stderr",
          "text": [
            "<ipython-input-39-8c9071ab8fea>:1: FutureWarning: The default value of regex will change from True to False in a future version.\n",
            "  X = df['comment_text'].str.replace('[^\\w\\s]','')\n"
          ]
        },
        {
          "output_type": "stream",
          "name": "stdout",
          "text": [
            "Punctuation removed\n",
            "0         Explanation\\nWhy the edits made under my usern...\n",
            "1         Daww He matches this background colour Im seem...\n",
            "2         Hey man Im really not trying to edit war Its j...\n",
            "3         \\nMore\\nI cant make any real suggestions on im...\n",
            "4         You sir are my hero Any chance you remember wh...\n",
            "                                ...                        \n",
            "159566    And for the second time of asking when your vi...\n",
            "159567    You should be ashamed of yourself \\n\\nThat is ...\n",
            "159568    Spitzer \\n\\nUmm theres no actual article for p...\n",
            "159569    And it looks like it was actually you who put ...\n",
            "159570    \\nAnd  I really dont think you understand  I c...\n",
            "Name: comment_text, Length: 159571, dtype: object\n"
          ]
        }
      ],
      "source": [
        "X = df['comment_text'].str.replace('[^\\w\\s]','')\n",
        "print(\"Punctuation removed\")\n",
        "print(X)"
      ]
    },
    {
      "cell_type": "markdown",
      "metadata": {
        "id": "fhEgN_8DGm7f"
      },
      "source": [
        "c. Lowercase values"
      ]
    },
    {
      "cell_type": "code",
      "execution_count": 40,
      "metadata": {
        "colab": {
          "base_uri": "https://localhost:8080/"
        },
        "id": "9ZJ2hdmeGphj",
        "outputId": "d64a757a-c7fc-4924-e177-3b9ac94a749a"
      },
      "outputs": [
        {
          "output_type": "stream",
          "name": "stdout",
          "text": [
            "All lowercase now\n",
            "0         explanation\\nwhy the edits made under my usern...\n",
            "1         daww he matches this background colour im seem...\n",
            "2         hey man im really not trying to edit war its j...\n",
            "3         \\nmore\\ni cant make any real suggestions on im...\n",
            "4         you sir are my hero any chance you remember wh...\n",
            "                                ...                        \n",
            "159566    and for the second time of asking when your vi...\n",
            "159567    you should be ashamed of yourself \\n\\nthat is ...\n",
            "159568    spitzer \\n\\numm theres no actual article for p...\n",
            "159569    and it looks like it was actually you who put ...\n",
            "159570    \\nand  i really dont think you understand  i c...\n",
            "Name: comment_text, Length: 159571, dtype: object\n"
          ]
        }
      ],
      "source": [
        "# Convert to lowercase\n",
        "X = X.str.lower()\n",
        "print(\"All lowercase now\")\n",
        "print(X)"
      ]
    },
    {
      "cell_type": "markdown",
      "metadata": {
        "id": "_oXU4PMdV3QB"
      },
      "source": [
        "### d. Remove stop words"
      ]
    },
    {
      "cell_type": "code",
      "execution_count": 41,
      "metadata": {
        "colab": {
          "base_uri": "https://localhost:8080/"
        },
        "id": "T2gJKoDqGw-r",
        "outputId": "f61e4b50-d05c-48f8-d029-42a58c423c02"
      },
      "outputs": [
        {
          "output_type": "stream",
          "name": "stderr",
          "text": [
            "[nltk_data] Downloading package stopwords to /root/nltk_data...\n",
            "[nltk_data]   Package stopwords is already up-to-date!\n",
            "[nltk_data] Downloading package punkt to /root/nltk_data...\n",
            "[nltk_data]   Package punkt is already up-to-date!\n"
          ]
        },
        {
          "output_type": "stream",
          "name": "stdout",
          "text": [
            "Removed stop words\n",
            "0         explanation edits made username hardcore metal...\n",
            "1         daww matches background colour im seemingly st...\n",
            "2         hey man im really trying edit war guy constant...\n",
            "3         cant make real suggestions improvement wondere...\n",
            "4                       sir hero chance remember page thats\n",
            "                                ...                        \n",
            "159566    second time asking view completely contradicts...\n",
            "159567       ashamed horrible thing put talk page 128611993\n",
            "159568    spitzer umm theres actual article prostitution...\n",
            "159569    looks like actually put speedy first version d...\n",
            "159570    really dont think understand came idea bad rig...\n",
            "Name: comment_text, Length: 159571, dtype: object\n"
          ]
        }
      ],
      "source": [
        "import nltk\n",
        "import pandas as pd\n",
        "nltk.download('stopwords') # For creating stopwords\n",
        "nltk.download('punkt') # For tokenizing later\n",
        "\n",
        "# Remove stop words\n",
        "stop_words = nltk.corpus.stopwords.words('english')\n",
        "X = X.apply(lambda x: ' '.join([word for word in x.split() if word not in stop_words]))\n",
        "print('Removed stop words')\n",
        "print(X)"
      ]
    },
    {
      "cell_type": "markdown",
      "metadata": {
        "id": "x7H9efytM2xQ"
      },
      "source": [
        "### e. Tokenize text\n"
      ]
    },
    {
      "cell_type": "code",
      "execution_count": 42,
      "metadata": {
        "colab": {
          "base_uri": "https://localhost:8080/"
        },
        "id": "WgX6xhh5M02H",
        "outputId": "fa90b0ff-337b-4588-977c-46e4ea1f1a29"
      },
      "outputs": [
        {
          "output_type": "stream",
          "name": "stdout",
          "text": [
            "Tokenized data\n",
            "0         [explanation, edits, made, username, hardcore,...\n",
            "1         [daww, matches, background, colour, im, seemin...\n",
            "2         [hey, man, im, really, trying, edit, war, guy,...\n",
            "3         [cant, make, real, suggestions, improvement, w...\n",
            "4                [sir, hero, chance, remember, page, thats]\n",
            "                                ...                        \n",
            "159566    [second, time, asking, view, completely, contr...\n",
            "159567    [ashamed, horrible, thing, put, talk, page, 12...\n",
            "159568    [spitzer, umm, theres, actual, article, prosti...\n",
            "159569    [looks, like, actually, put, speedy, first, ve...\n",
            "159570    [really, dont, think, understand, came, idea, ...\n",
            "Name: comment_text, Length: 159571, dtype: object\n"
          ]
        }
      ],
      "source": [
        "# Tokenize\n",
        "X = X.apply(nltk.word_tokenize)\n",
        "print(\"Tokenized data\")\n",
        "print(X)\n",
        "\n"
      ]
    },
    {
      "cell_type": "markdown",
      "metadata": {
        "id": "c8CH6eVzIbvq"
      },
      "source": [
        "### Stem words"
      ]
    },
    {
      "cell_type": "code",
      "execution_count": 43,
      "metadata": {
        "colab": {
          "base_uri": "https://localhost:8080/"
        },
        "id": "AY8rKz2qM0Ok",
        "outputId": "49588477-ced3-4734-e0bf-8c4e1b8855f2"
      },
      "outputs": [
        {
          "output_type": "stream",
          "name": "stdout",
          "text": [
            "Stemmed words 0         [explan, edit, made, usernam, hardcor, metalli...\n",
            "1         [daww, match, background, colour, im, seemingl...\n",
            "2         [hey, man, im, realli, tri, edit, war, guy, co...\n",
            "3         [cant, make, real, suggest, improv, wonder, se...\n",
            "4                    [sir, hero, chanc, rememb, page, that]\n",
            "                                ...                        \n",
            "159566    [second, time, ask, view, complet, contradict,...\n",
            "159567    [asham, horribl, thing, put, talk, page, 12861...\n",
            "159568    [spitzer, umm, there, actual, articl, prostitu...\n",
            "159569    [look, like, actual, put, speedi, first, versi...\n",
            "159570    [realli, dont, think, understand, came, idea, ...\n",
            "Name: comment_text, Length: 159571, dtype: object\n"
          ]
        }
      ],
      "source": [
        "stemmer = nltk.stem.PorterStemmer()\n",
        "# stemmer = nltk.stem.SnowballStemmer('english')\n",
        "\n",
        "# Must add this to avoid recursion errors since some words cause problems in English.\n",
        "def stem_words(words):\n",
        "    stemmed_words = []\n",
        "    for word in words:\n",
        "        try:\n",
        "            stemmed_word = stemmer.stem(word)\n",
        "            stemmed_words.append(stemmed_word)\n",
        "        except RecursionError:\n",
        "            # Skip the word that caused the error\n",
        "            pass\n",
        "    return stemmed_words\n",
        "\n",
        "X = X.apply(stem_words)\n",
        "print(\"Stemmed words\", X)\n",
        "\n",
        "# Rejoin the stemmed words into a single string\n",
        "X = X.apply(lambda x: ' '.join(x))"
      ]
    },
    {
      "cell_type": "markdown",
      "metadata": {
        "id": "g6Hdflc_ZMnJ"
      },
      "source": [
        "### Remove High frequency and Low frequency words"
      ]
    },
    {
      "cell_type": "code",
      "execution_count": 44,
      "metadata": {
        "id": "YAM3BCflMC38",
        "colab": {
          "base_uri": "https://localhost:8080/"
        },
        "outputId": "a597d068-45de-41e9-e92f-0e1df772431d"
      },
      "outputs": [
        {
          "output_type": "stream",
          "name": "stdout",
          "text": [
            "  (0, 20476)\t0.24215348035081574\n",
            "  (0, 12615)\t0.11445474413211287\n",
            "  (0, 22049)\t0.13788430542765015\n",
            "  (0, 17972)\t0.08914714240355574\n",
            "  (0, 23635)\t0.09707342993815163\n",
            "  (0, 23892)\t0.17285507264336267\n",
            "  (0, 20298)\t0.12177332377095078\n",
            "  (0, 8343)\t0.10417669840044645\n",
            "  (0, 18749)\t0.10077350177813897\n",
            "  (0, 9579)\t0.25257452490922416\n",
            "  (0, 8307)\t0.32165926861584543\n",
            "  (0, 27365)\t0.2186934025904158\n",
            "  (0, 16825)\t0.13593174573906255\n",
            "  (0, 25943)\t0.19225341087939657\n",
            "  (0, 10633)\t0.21310728880636834\n",
            "  (0, 6207)\t0.2887801958791893\n",
            "  (0, 25590)\t0.13731934947571897\n",
            "  (0, 26266)\t0.23388257847473964\n",
            "  (0, 20512)\t0.1391660937149478\n",
            "  (0, 9679)\t0.2045648746291948\n",
            "  (0, 15743)\t0.3272319206369358\n",
            "  (0, 11650)\t0.2872555836431244\n",
            "  (0, 25471)\t0.1975081511493495\n",
            "  (0, 15093)\t0.13508616917257146\n",
            "  (0, 8732)\t0.09794655383111618\n",
            "  :\t:\n",
            "  (159568, 2323)\t0.1812843130327502\n",
            "  (159569, 19582)\t0.31696382295080455\n",
            "  (159569, 25728)\t0.37927824586151476\n",
            "  (159569, 14653)\t0.22244061038172255\n",
            "  (159569, 14863)\t0.5416081319607855\n",
            "  (159569, 22651)\t0.39487715783809624\n",
            "  (159569, 7624)\t0.26700376716014657\n",
            "  (159569, 10010)\t0.2937624835466702\n",
            "  (159569, 2323)\t0.3151941865010652\n",
            "  (159570, 20535)\t0.2667441576328884\n",
            "  (159570, 12535)\t0.39972649687588435\n",
            "  (159570, 14014)\t0.2065162300023789\n",
            "  (159570, 3790)\t0.43707848826283363\n",
            "  (159570, 6450)\t0.20907954203009102\n",
            "  (159570, 20611)\t0.16623620467570377\n",
            "  (159570, 11091)\t0.23858435533492678\n",
            "  (159570, 11879)\t0.15927681516474346\n",
            "  (159570, 25059)\t0.1822219046303037\n",
            "  (159570, 3893)\t0.4185784670555715\n",
            "  (159570, 5354)\t0.22433514895734755\n",
            "  (159570, 11059)\t0.14411959708863673\n",
            "  (159570, 24106)\t0.13363052970465666\n",
            "  (159570, 13054)\t0.201571947590357\n",
            "  (159570, 19946)\t0.16611968698720186\n",
            "  (159570, 8343)\t0.1270661361094959\n"
          ]
        }
      ],
      "source": [
        "from sklearn.feature_extraction.text import TfidfVectorizer\n",
        "\n",
        "# Remove high frequency words and low frequency words, with min_df = 5 and max_df = 0.5\n",
        "vectorizer = TfidfVectorizer(min_df=5, max_df=0.5)\n",
        "X = vectorizer.fit_transform(X)\n",
        "print(X)"
      ]
    },
    {
      "cell_type": "markdown",
      "metadata": {
        "id": "kYpLgqWOTBb5"
      },
      "source": [
        "### Model & Techniques"
      ]
    },
    {
      "cell_type": "code",
      "execution_count": 45,
      "metadata": {
        "id": "UugkIwYETBGi"
      },
      "outputs": [],
      "source": [
        "# # To begin, we must pre-process the test.csv in a similar fashion to previously utilized methods.\n",
        "# test_df = pd.read_csv('test.csv') # y_test is not even being used.\n",
        "\n",
        "# # Read test labels csv\n",
        "# test_labels = pd.read_csv('test_labels.csv') # Why is it 0 or 1 here nad -1 or 0 in the other\n",
        "\n",
        "# from sklearn.linear_model import LogisticRegression\n",
        "# clf = LogisticRegression()\n",
        "\n",
        "# # Preprocess the test data\n",
        "# X_test = test_df['comment_text']\n",
        "# y_test = test_labels['threat']\n",
        "\n",
        "# # Remove missing values\n",
        "# X_test.dropna(inplace=True)\n",
        "# y_test = y_test[X_test.index]\n",
        "\n",
        "# # Remove punctuation\n",
        "# X_test = X_test.str.replace('[^\\w\\s]','')\n",
        "\n",
        "# # Convert to lowercase\n",
        "# X_test = X_test.str.lower()\n",
        "\n",
        "# # Remove stop words\n",
        "# X_test = X_test.apply(lambda x: ' '.join([word for word in x.split() if word not in stop_words]))\n",
        "\n",
        "# # Tokenize\n",
        "# X_test = X_test.apply(nltk.word_tokenize)\n",
        "\n",
        "# # Stem words\n",
        "# X_test = X_test.apply(stem_words)\n",
        "\n",
        "# # Convert the text data into a numerical representation using Tf-IDF\n",
        "# X_test = vectorizer.transform(X_test)\n",
        "\n",
        "# # Make predictions on the test data\n",
        "# predictions = clf.predict(X_test)\n",
        "\n",
        "# # Extract the labels for the test data\n",
        "# labels = test_labels[test_labels['id'].isin(test_df['id'])]['threat']\n",
        "\n",
        "# # Compare the predictions of the model to the labels to evaluate the performance of the model\n",
        "# accuracy = accuracy_score(labels, predictions)\n",
        "# precision = precision_score(labels, predictions)\n",
        "# recall = recall_score(labels, predictions)\n",
        "\n",
        "# print(\"Accuracy: \", accuracy)\n",
        "# print(\"Precision: \", precision)\n",
        "# print(\"Recall: \", recall)\n",
        "\n",
        "\n"
      ]
    },
    {
      "cell_type": "code",
      "execution_count": 46,
      "metadata": {
        "id": "n0_ct0BmWMAK"
      },
      "outputs": [],
      "source": [
        "# # Train the model using logistic regression\n",
        "# from sklearn.linear_model import LogisticRegression\n",
        "# from sklearn.model_selection import train_test_split\n",
        "\n",
        "# # Logistic regression model\n",
        "# clf = LogisticRegression()\n",
        "\n",
        "# # Split the data into a training set and a validation set\n",
        "# X_train, X_test, y_train, y_test = train_test_split(X, y, test_size=0.2, random_state=42)\n",
        "\n",
        "# # Fit model\n",
        "# clf.fit(X_train, y_train)\n",
        "\n",
        "# # Make predictions on the test set\n",
        "# y_pred = clf.predict(X_test)\n"
      ]
    },
    {
      "cell_type": "code",
      "execution_count": 47,
      "metadata": {
        "id": "Tw07tBQOWh06"
      },
      "outputs": [],
      "source": [
        "# # Load the test labels\n",
        "# test_labels_df = pd.read_csv('test_labels.csv')\n",
        "# y_test = test_labels_df['threat']\n",
        "\n",
        "# # Extract the labels for the test data\n",
        "# labels = test_labels_df[test_labels_df['id'].isin(test_df['id'])]['threat']\n",
        "\n",
        "# # Calculate the accuracy of the model\n",
        "# from sklearn.metrics import accuracy_score\n",
        "# accuracy = accuracy_score(y_test, predictions)\n",
        "# print(\"Accuracy:\", accuracy)\n",
        "\n",
        "# # Calculate the precision of the model\n",
        "# from sklearn.metrics import precision_score\n",
        "# precision = precision_score(y_test, predictions)\n",
        "# print(\"Precision:\", precision)\n",
        "\n",
        "# # Calculate the recall of the model\n",
        "# from sklearn.metrics import recall_score\n",
        "# recall = recall_score(y_test, predictions)\n",
        "# print(\"Recall:\", recall)\n",
        "\n",
        "# # Calculate the F1 score of the model\n",
        "# from sklearn.metrics import f1_score\n",
        "# f1 = f1_score(y_test, predictions)\n",
        "# print(\"F1 score:\", f1)\n"
      ]
    },
    {
      "cell_type": "code",
      "execution_count": 48,
      "metadata": {
        "id": "Ipwh-LT1BBR0"
      },
      "outputs": [],
      "source": [
        "# idk if this owrked or not (SVC)\n",
        "# import pandas as pd\n",
        "# from sklearn.model_selection import train_test_split\n",
        "# from sklearn.feature_extraction.text import CountVectorizer\n",
        "# from sklearn.svm import SVC\n",
        "# from sklearn.metrics import classification_report\n",
        "\n",
        "# # Step 2: Preprocess the data\n",
        "# # lowercase the text\n",
        "# df['comment_text'] = df['comment_text'].str.lower()\n",
        "# # remove punctuation\n",
        "# df['comment_text'] = df['comment_text'].str.replace(r'[^\\w\\s]', '')\n",
        "\n",
        "# # Step 3: Split the data into a training set and a test set\n",
        "# X = df['comment_text']\n",
        "# y = df['threat']\n",
        "# X_train, X_test, y_train, y_test = train_test_split(X, y, test_size=0.2)\n",
        "\n",
        "# # Step 4: Build the model\n",
        "# # create a count vectorizer to convert the text into numerical features\n",
        "# vectorizer = CountVectorizer()\n",
        "# X_train_vec = vectorizer.fit_transform(X_train)\n",
        "# X_test_vec = vectorizer.transform(X_test)\n",
        "\n",
        "# # use a support vector machine (SVM) classifier\n",
        "# clf = SVC()\n",
        "# clf.fit(X_train_vec, y_train)\n",
        "\n",
        "# # Step 5: Evaluate the model\n",
        "# y_pred = clf.predict(X_test_vec)\n",
        "# print(classification_report(y_test, y_pred))\n"
      ]
    },
    {
      "cell_type": "code",
      "execution_count": 50,
      "metadata": {
        "id": "E98W8b8KLXhN",
        "colab": {
          "base_uri": "https://localhost:8080/"
        },
        "outputId": "f8f09727-5d87-441d-e980-8b763a17ab59"
      },
      "outputs": [
        {
          "output_type": "stream",
          "name": "stdout",
          "text": [
            "Test Accuracy: 1.00\n"
          ]
        }
      ],
      "source": [
        "import pandas as pd\n",
        "from sklearn.feature_extraction.text import TfidfVectorizer\n",
        "from sklearn.linear_model import LogisticRegression\n",
        "from sklearn.pipeline import Pipeline\n",
        "from sklearn.model_selection import train_test_split\n",
        "\n",
        "# Load the dataset\n",
        "# Split the dataset into training and test sets\n",
        "X_train, X_test, y_train, y_test = train_test_split(df[\"comment_text\"], y, test_size=0.2)\n",
        "\n",
        "# Define the model\n",
        "model = Pipeline([\n",
        "    ('vectorizer', TfidfVectorizer()),\n",
        "    ('classifier', LogisticRegression())\n",
        "])\n",
        "\n",
        "# Fit the model on the training data\n",
        "model.fit(X_train, y_train)\n",
        "\n",
        "# Evaluate the model on the test data\n",
        "accuracy = model.score(X_test, y_test)\n",
        "print(f'Test Accuracy: {accuracy:.2f}')"
      ]
    },
    {
      "cell_type": "code",
      "execution_count": 51,
      "metadata": {
        "id": "oelgLy2-NdWu",
        "outputId": "ca00cbd9-3687-4c20-c958-ecdd8b9422fe",
        "colab": {
          "base_uri": "https://localhost:8080/"
        }
      },
      "outputs": [
        {
          "output_type": "stream",
          "name": "stdout",
          "text": [
            "Precision: 0.61\n",
            "Recall: 0.14\n",
            "F1 Score: 0.22\n"
          ]
        }
      ],
      "source": [
        "from sklearn.metrics import precision_score, recall_score, f1_score\n",
        "\n",
        "# Make predictions on the test set\n",
        "y_pred = model.predict(X_test)\n",
        "\n",
        "# Calculate evaluation metrics\n",
        "precision = precision_score(y_test, y_pred)\n",
        "recall = recall_score(y_test, y_pred)\n",
        "f1 = f1_score(y_test, y_pred)\n",
        "\n",
        "# Print the evaluation metrics\n",
        "print(f'Precision: {precision:.2f}')\n",
        "print(f'Recall: {recall:.2f}')\n",
        "print(f'F1 Score: {f1:.2f}')\n"
      ]
    },
    {
      "cell_type": "code",
      "execution_count": 52,
      "metadata": {
        "id": "1LCUAsydXNIP",
        "outputId": "e9d5dbef-a0bc-4475-f231-d68e0bd2528b",
        "colab": {
          "base_uri": "https://localhost:8080/"
        }
      },
      "outputs": [
        {
          "output_type": "stream",
          "name": "stdout",
          "text": [
            "All lowercase now\n",
            "5218      o rly? \\n\\ni was refering to the page, not you...\n",
            "59483     block\\nwhat's wrong ass-fuckers?  you can't ta...\n",
            "9416      \"\\n\\n will arbitration finally be needed to st...\n",
            "67344     \"\\nthe reviewer was in error, it was not a coo...\n",
            "800              ditto - congrats, and all the best to you!\n",
            "                                ...                        \n",
            "157718    bitch \\nyou are a fucking hore. you suck dick ...\n",
            "158717    stupid head \\n\\nyour dumb and you are stupid d...\n",
            "158856    hey \\n\\nhey faggot, are you dead yet? or are y...\n",
            "159029                                  death to musulmans!\n",
            "159400    shalom \\n\\nsemite, get the fuck out of here. i...\n",
            "Name: comment_text, Length: 956, dtype: object\n",
            "Removed stop words\n",
            "5218           rly? refering page, you. think type, please.\n",
            "59483     block what's wrong ass-fuckers? can't take lit...\n",
            "9416      \" arbitration finally needed stop bigoted atta...\n",
            "67344     \" reviewer error, cooling block. 24 hour block...\n",
            "800                             ditto - congrats, best you!\n",
            "                                ...                        \n",
            "157718    bitch fucking hore. suck dick big ass hole. ga...\n",
            "158717     stupid head dumb stupid die die die go suck butt\n",
            "158856    hey hey faggot, dead yet? watching mom getting...\n",
            "159029                                     death musulmans!\n",
            "159400    shalom semite, get fuck here. kill you, son bi...\n",
            "Name: comment_text, Length: 956, dtype: object\n",
            "Test Accuracy: 0.90\n"
          ]
        }
      ],
      "source": [
        "# ATTEMPT DOWNSAMPLING MAJORITY (non-threats) and retraining. need to \n",
        "# preprocess again, because not working\n",
        "from sklearn.utils import resample\n",
        "\n",
        "# Separate the majority (negative) class and the minority (positive) class\n",
        "df_majority = df[df['threat'] == 0]\n",
        "df_minority = df[df['threat'] == 1]\n",
        "\n",
        "# Downsample the majority (negative) class\n",
        "df_majority_downsampled = resample(df_majority, \n",
        "                                   replace=False,  # sample without replacement\n",
        "                                   n_samples=len(df_minority),  # match minority class\n",
        "                                   random_state=42)  # reproducible results\n",
        "\n",
        "# Combine the minority (positive) class with the downsampled majority (negative) class\n",
        "df_downsampled = pd.concat([df_majority_downsampled, df_minority])\n",
        "\n",
        "X = df_downsampled[\"comment_text\"]\n",
        "y = df_downsampled[\"threat\"]\n",
        "\n",
        "# Convert to lowercase\n",
        "X = X.str.lower()\n",
        "print(\"All lowercase now\")\n",
        "print(X)\n",
        "\n",
        "# Remove stop words\n",
        "stop_words = nltk.corpus.stopwords.words('english')\n",
        "X = X.apply(lambda x: ' '.join([word for word in x.split() if word not in stop_words]))\n",
        "print('Removed stop words')\n",
        "print(X)\n",
        "\n",
        "# Tokenize\n",
        "# X = X.apply(nltk.word_tokenize)\n",
        "# print(\"Tokenized data\")\n",
        "# print(X)\n",
        "\n",
        "\n",
        "#Extra split again (Remove from down below)\n",
        "# Split the downsampled dataset into training and test sets\n",
        "X_train, X_test, y_train, y_test = train_test_split(X, y, test_size=0.2)\n",
        "\n",
        "# Define the model\n",
        "model = Pipeline([\n",
        "    ('vectorizer', TfidfVectorizer()),\n",
        "    ('classifier', LogisticRegression())\n",
        "])\n",
        "\n",
        "# Fit the model on the downsampled training data\n",
        "model.fit(X_train, y_train)\n",
        "\n",
        "# Evaluate the model on the test set\n",
        "accuracy = model.score(X_test, y_test)\n",
        "print(f'Test Accuracy: {accuracy:.2f}')"
      ]
    },
    {
      "cell_type": "code",
      "execution_count": 57,
      "metadata": {
        "id": "oc_88n6ndNjl",
        "outputId": "13e05913-c57c-45db-cc67-c38b83885569",
        "colab": {
          "base_uri": "https://localhost:8080/"
        }
      },
      "outputs": [
        {
          "output_type": "stream",
          "name": "stdout",
          "text": [
            "Sentence is a threat?:  [1]\n",
            "Confidence:  0.5095741732525707\n"
          ]
        }
      ],
      "source": [
        "# Test with one sentence...\n",
        "sentence = [\"i will hurt you\"]\n",
        "\n",
        "# Make a prediction using the model\n",
        "prediction = model.predict(sentence)\n",
        "\n",
        "# Print the prediction (0 for not threat, 1 for threat)\n",
        "print('Sentence is a threat?: ', prediction)\n",
        "\n",
        "probability = model.predict_proba(sentence)[0][1]\n",
        "print('Confidence: ', probability)"
      ]
    },
    {
      "cell_type": "code",
      "execution_count": null,
      "metadata": {
        "id": "UxVKOYQ-_m4n"
      },
      "outputs": [],
      "source": [
        "extra_threats = pd.read_csv('Extra_threats.csv')\n",
        "extra_threats"
      ]
    }
  ],
  "metadata": {
    "colab": {
      "provenance": [],
      "authorship_tag": "ABX9TyPCqgRN8gLELV7BK+bg7Lmi",
      "include_colab_link": true
    },
    "kernelspec": {
      "display_name": "Python 3",
      "name": "python3"
    },
    "language_info": {
      "name": "python"
    }
  },
  "nbformat": 4,
  "nbformat_minor": 0
}